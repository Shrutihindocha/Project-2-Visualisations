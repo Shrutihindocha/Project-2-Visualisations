{
 "cells": [
  {
   "cell_type": "code",
   "execution_count": 59,
   "metadata": {},
   "outputs": [],
   "source": [
    "import pandas as pd\n",
    "import numpy as np\n",
    "import matplotlib.pyplot as plt"
   ]
  },
  {
   "cell_type": "code",
   "execution_count": 60,
   "metadata": {},
   "outputs": [],
   "source": [
    "raw_df_19_20 = pd.read_csv(\"raw_data/2019-20-fullyr-data_sa_crime.csv\") # returns 95702 entries\n",
    "raw_df_18_19 = pd.read_csv(\"raw_data/2018-19-data_sa_crime.csv\")        # returns 94937 entries\n",
    "raw_df_17_18 = pd.read_csv(\"raw_data/2017-18-data_sa_crime.csv\")        # returns 90655 entries\n",
    "raw_df_16_17 = pd.read_csv(\"raw_data/2016-17-data_sa_crime.csv\")        # returns 90682 entries\n",
    "raw_df_15_16 = pd.read_csv(\"raw_data/2015-16-data_sa_crime.csv\")        # returns 93167 entries"
   ]
  },
  {
   "cell_type": "code",
   "execution_count": 61,
   "metadata": {},
   "outputs": [],
   "source": [
    "# combining dataframes\n",
    "frames = [raw_df_15_16 , raw_df_16_17 , raw_df_17_18 , raw_df_18_19 , raw_df_19_20]\n",
    "crime_combined = pd.concat(frames)"
   ]
  },
  {
   "cell_type": "code",
   "execution_count": 62,
   "metadata": {},
   "outputs": [
    {
     "data": {
      "text/plain": [
       "Reported Date                  465143\n",
       "Suburb - Incident              464056\n",
       "Postcode - Incident            463212\n",
       "Offence Level 1 Description    465143\n",
       "Offence Level 2 Description    465143\n",
       "Offence Level 3 Description    465143\n",
       "Offence count                  465143\n",
       "dtype: int64"
      ]
     },
     "execution_count": 62,
     "metadata": {},
     "output_type": "execute_result"
    }
   ],
   "source": [
    "# look for missing values\n",
    "crime_combined.count()"
   ]
  },
  {
   "cell_type": "code",
   "execution_count": 63,
   "metadata": {},
   "outputs": [
    {
     "data": {
      "text/plain": [
       "Reported Date                  463192\n",
       "Suburb - Incident              463192\n",
       "Postcode - Incident            463192\n",
       "Offence Level 1 Description    463192\n",
       "Offence Level 2 Description    463192\n",
       "Offence Level 3 Description    463192\n",
       "Offence count                  463192\n",
       "dtype: int64"
      ]
     },
     "execution_count": 63,
     "metadata": {},
     "output_type": "execute_result"
    }
   ],
   "source": [
    "# drop missing values and save to clean_df\n",
    "crime_cleaned = crime_combined.dropna(how='any')\n",
    "crime_cleaned.count()"
   ]
  },
  {
   "cell_type": "code",
   "execution_count": 64,
   "metadata": {},
   "outputs": [
    {
     "data": {
      "text/plain": [
       "Reported Date                  0\n",
       "Suburb - Incident              0\n",
       "Postcode - Incident            0\n",
       "Offence Level 1 Description    0\n",
       "Offence Level 2 Description    0\n",
       "Offence Level 3 Description    0\n",
       "Offence count                  0\n",
       "dtype: int64"
      ]
     },
     "execution_count": 64,
     "metadata": {},
     "output_type": "execute_result"
    }
   ],
   "source": [
    "# check for null values\n",
    "crime_cleaned.isnull().sum()"
   ]
  },
  {
   "cell_type": "code",
   "execution_count": 65,
   "metadata": {},
   "outputs": [
    {
     "data": {
      "text/plain": [
       "0"
      ]
     },
     "execution_count": 65,
     "metadata": {},
     "output_type": "execute_result"
    }
   ],
   "source": [
    "# check for duplicates\n",
    "crime_cleaned.duplicated().sum()"
   ]
  },
  {
   "cell_type": "code",
   "execution_count": 66,
   "metadata": {},
   "outputs": [
    {
     "name": "stdout",
     "output_type": "stream",
     "text": [
      "<class 'pandas.core.frame.DataFrame'>\n",
      "Int64Index: 463192 entries, 0 to 95699\n",
      "Data columns (total 7 columns):\n",
      " #   Column                       Non-Null Count   Dtype  \n",
      "---  ------                       --------------   -----  \n",
      " 0   Reported Date                463192 non-null  object \n",
      " 1   Suburb - Incident            463192 non-null  object \n",
      " 2   Postcode - Incident          463192 non-null  object \n",
      " 3   Offence Level 1 Description  463192 non-null  object \n",
      " 4   Offence Level 2 Description  463192 non-null  object \n",
      " 5   Offence Level 3 Description  463192 non-null  object \n",
      " 6   Offence count                463192 non-null  float64\n",
      "dtypes: float64(1), object(6)\n",
      "memory usage: 28.3+ MB\n"
     ]
    }
   ],
   "source": [
    "crime_cleaned.info()"
   ]
  },
  {
   "cell_type": "code",
   "execution_count": 67,
   "metadata": {},
   "outputs": [
    {
     "data": {
      "text/html": [
       "<div>\n",
       "<style scoped>\n",
       "    .dataframe tbody tr th:only-of-type {\n",
       "        vertical-align: middle;\n",
       "    }\n",
       "\n",
       "    .dataframe tbody tr th {\n",
       "        vertical-align: top;\n",
       "    }\n",
       "\n",
       "    .dataframe thead th {\n",
       "        text-align: right;\n",
       "    }\n",
       "</style>\n",
       "<table border=\"1\" class=\"dataframe\">\n",
       "  <thead>\n",
       "    <tr style=\"text-align: right;\">\n",
       "      <th></th>\n",
       "      <th>id</th>\n",
       "      <th>postcode</th>\n",
       "      <th>locality</th>\n",
       "      <th>state</th>\n",
       "      <th>long</th>\n",
       "      <th>lat</th>\n",
       "      <th>dc</th>\n",
       "      <th>type</th>\n",
       "      <th>status</th>\n",
       "      <th>sa3</th>\n",
       "      <th>...</th>\n",
       "      <th>SA3_NAME_2016</th>\n",
       "      <th>SA4_CODE_2016</th>\n",
       "      <th>SA4_NAME_2016</th>\n",
       "      <th>RA_2011</th>\n",
       "      <th>RA_2016</th>\n",
       "      <th>MMM_2015</th>\n",
       "      <th>MMM_2019</th>\n",
       "      <th>ced</th>\n",
       "      <th>altitude</th>\n",
       "      <th>chargezone</th>\n",
       "    </tr>\n",
       "  </thead>\n",
       "  <tbody>\n",
       "    <tr>\n",
       "      <th>0</th>\n",
       "      <td>230</td>\n",
       "      <td>200</td>\n",
       "      <td>ANU</td>\n",
       "      <td>ACT</td>\n",
       "      <td>149.119000</td>\n",
       "      <td>-35.277700</td>\n",
       "      <td>NaN</td>\n",
       "      <td>NaN</td>\n",
       "      <td>NaN</td>\n",
       "      <td>NaN</td>\n",
       "      <td>...</td>\n",
       "      <td>North Canberra</td>\n",
       "      <td>801.0</td>\n",
       "      <td>Australian Capital Territory</td>\n",
       "      <td>1.0</td>\n",
       "      <td>1.0</td>\n",
       "      <td>1.0</td>\n",
       "      <td>1.0</td>\n",
       "      <td>NaN</td>\n",
       "      <td>NaN</td>\n",
       "      <td>N2</td>\n",
       "    </tr>\n",
       "    <tr>\n",
       "      <th>1</th>\n",
       "      <td>21820</td>\n",
       "      <td>200</td>\n",
       "      <td>Australian National University</td>\n",
       "      <td>ACT</td>\n",
       "      <td>149.118900</td>\n",
       "      <td>-35.277700</td>\n",
       "      <td>NaN</td>\n",
       "      <td>NaN</td>\n",
       "      <td>Added 19-Jan-2020</td>\n",
       "      <td>NaN</td>\n",
       "      <td>...</td>\n",
       "      <td>North Canberra</td>\n",
       "      <td>801.0</td>\n",
       "      <td>Australian Capital Territory</td>\n",
       "      <td>1.0</td>\n",
       "      <td>1.0</td>\n",
       "      <td>1.0</td>\n",
       "      <td>1.0</td>\n",
       "      <td>NaN</td>\n",
       "      <td>NaN</td>\n",
       "      <td>N2</td>\n",
       "    </tr>\n",
       "    <tr>\n",
       "      <th>2</th>\n",
       "      <td>232</td>\n",
       "      <td>800</td>\n",
       "      <td>DARWIN</td>\n",
       "      <td>NT</td>\n",
       "      <td>130.836680</td>\n",
       "      <td>-12.458684</td>\n",
       "      <td>NaN</td>\n",
       "      <td>NaN</td>\n",
       "      <td>Updated 6-Feb-2020</td>\n",
       "      <td>70101.0</td>\n",
       "      <td>...</td>\n",
       "      <td>Darwin City</td>\n",
       "      <td>701.0</td>\n",
       "      <td>Darwin</td>\n",
       "      <td>3.0</td>\n",
       "      <td>3.0</td>\n",
       "      <td>2.0</td>\n",
       "      <td>2.0</td>\n",
       "      <td>NaN</td>\n",
       "      <td>NaN</td>\n",
       "      <td>NT1</td>\n",
       "    </tr>\n",
       "    <tr>\n",
       "      <th>3</th>\n",
       "      <td>233</td>\n",
       "      <td>801</td>\n",
       "      <td>DARWIN</td>\n",
       "      <td>NT</td>\n",
       "      <td>130.836680</td>\n",
       "      <td>-12.458684</td>\n",
       "      <td>NaN</td>\n",
       "      <td>NaN</td>\n",
       "      <td>Updated 25-Mar-2020 SA3</td>\n",
       "      <td>70101.0</td>\n",
       "      <td>...</td>\n",
       "      <td>Darwin City</td>\n",
       "      <td>701.0</td>\n",
       "      <td>Darwin</td>\n",
       "      <td>3.0</td>\n",
       "      <td>3.0</td>\n",
       "      <td>2.0</td>\n",
       "      <td>2.0</td>\n",
       "      <td>NaN</td>\n",
       "      <td>NaN</td>\n",
       "      <td>NT1</td>\n",
       "    </tr>\n",
       "    <tr>\n",
       "      <th>4</th>\n",
       "      <td>234</td>\n",
       "      <td>804</td>\n",
       "      <td>PARAP</td>\n",
       "      <td>NT</td>\n",
       "      <td>130.873315</td>\n",
       "      <td>-12.428017</td>\n",
       "      <td>NaN</td>\n",
       "      <td>NaN</td>\n",
       "      <td>Updated 25-Mar-2020 SA3</td>\n",
       "      <td>70102.0</td>\n",
       "      <td>...</td>\n",
       "      <td>Darwin City</td>\n",
       "      <td>701.0</td>\n",
       "      <td>Darwin</td>\n",
       "      <td>3.0</td>\n",
       "      <td>3.0</td>\n",
       "      <td>2.0</td>\n",
       "      <td>2.0</td>\n",
       "      <td>NaN</td>\n",
       "      <td>NaN</td>\n",
       "      <td>NT1</td>\n",
       "    </tr>\n",
       "  </tbody>\n",
       "</table>\n",
       "<p>5 rows × 31 columns</p>\n",
       "</div>"
      ],
      "text/plain": [
       "      id  postcode                        locality state        long  \\\n",
       "0    230       200                             ANU   ACT  149.119000   \n",
       "1  21820       200  Australian National University   ACT  149.118900   \n",
       "2    232       800                          DARWIN    NT  130.836680   \n",
       "3    233       801                          DARWIN    NT  130.836680   \n",
       "4    234       804                           PARAP    NT  130.873315   \n",
       "\n",
       "         lat   dc type                   status      sa3  ...   SA3_NAME_2016  \\\n",
       "0 -35.277700  NaN  NaN                      NaN      NaN  ...  North Canberra   \n",
       "1 -35.277700  NaN  NaN        Added 19-Jan-2020      NaN  ...  North Canberra   \n",
       "2 -12.458684  NaN  NaN       Updated 6-Feb-2020  70101.0  ...     Darwin City   \n",
       "3 -12.458684  NaN  NaN  Updated 25-Mar-2020 SA3  70101.0  ...     Darwin City   \n",
       "4 -12.428017  NaN  NaN  Updated 25-Mar-2020 SA3  70102.0  ...     Darwin City   \n",
       "\n",
       "   SA4_CODE_2016                 SA4_NAME_2016 RA_2011  RA_2016  MMM_2015  \\\n",
       "0          801.0  Australian Capital Territory     1.0      1.0       1.0   \n",
       "1          801.0  Australian Capital Territory     1.0      1.0       1.0   \n",
       "2          701.0                        Darwin     3.0      3.0       2.0   \n",
       "3          701.0                        Darwin     3.0      3.0       2.0   \n",
       "4          701.0                        Darwin     3.0      3.0       2.0   \n",
       "\n",
       "   MMM_2019  ced  altitude chargezone  \n",
       "0       1.0  NaN       NaN         N2  \n",
       "1       1.0  NaN       NaN         N2  \n",
       "2       2.0  NaN       NaN        NT1  \n",
       "3       2.0  NaN       NaN        NT1  \n",
       "4       2.0  NaN       NaN        NT1  \n",
       "\n",
       "[5 rows x 31 columns]"
      ]
     },
     "execution_count": 67,
     "metadata": {},
     "output_type": "execute_result"
    }
   ],
   "source": [
    "postcodes_df = pd.read_csv(\"raw_data/australian_postcodes.csv\")\n",
    "postcodes_df.head()"
   ]
  },
  {
   "cell_type": "code",
   "execution_count": 68,
   "metadata": {},
   "outputs": [
    {
     "data": {
      "text/plain": [
       "Index(['id', 'postcode', 'locality', 'state', 'long', 'lat', 'dc', 'type',\n",
       "       'status', 'sa3', 'sa3name', 'sa4', 'sa4name', 'region', 'Lat_precise',\n",
       "       'Long_precise', 'SA1_MAINCODE_2011', 'SA1_MAINCODE_2016',\n",
       "       'SA2_MAINCODE_2016', 'SA2_NAME_2016', 'SA3_CODE_2016', 'SA3_NAME_2016',\n",
       "       'SA4_CODE_2016', 'SA4_NAME_2016', 'RA_2011', 'RA_2016', 'MMM_2015',\n",
       "       'MMM_2019', 'ced', 'altitude', 'chargezone'],\n",
       "      dtype='object')"
      ]
     },
     "execution_count": 68,
     "metadata": {},
     "output_type": "execute_result"
    }
   ],
   "source": [
    "postcodes_df.columns"
   ]
  },
  {
   "cell_type": "code",
   "execution_count": 69,
   "metadata": {},
   "outputs": [],
   "source": [
    "sa_postcodes = postcodes_df[postcodes_df[\"state\"]== \"SA\"]"
   ]
  },
  {
   "cell_type": "code",
   "execution_count": 70,
   "metadata": {},
   "outputs": [],
   "source": [
    "sa_postcodes_clean = sa_postcodes[[\"locality\", \"long\", \"lat\"]]"
   ]
  },
  {
   "cell_type": "code",
   "execution_count": 71,
   "metadata": {},
   "outputs": [
    {
     "data": {
      "text/html": [
       "<div>\n",
       "<style scoped>\n",
       "    .dataframe tbody tr th:only-of-type {\n",
       "        vertical-align: middle;\n",
       "    }\n",
       "\n",
       "    .dataframe tbody tr th {\n",
       "        vertical-align: top;\n",
       "    }\n",
       "\n",
       "    .dataframe thead th {\n",
       "        text-align: right;\n",
       "    }\n",
       "</style>\n",
       "<table border=\"1\" class=\"dataframe\">\n",
       "  <thead>\n",
       "    <tr style=\"text-align: right;\">\n",
       "      <th></th>\n",
       "      <th>locality</th>\n",
       "      <th>long</th>\n",
       "      <th>lat</th>\n",
       "    </tr>\n",
       "  </thead>\n",
       "  <tbody>\n",
       "    <tr>\n",
       "      <th>14084</th>\n",
       "      <td>ABERFOYLE PARK</td>\n",
       "      <td>138.603897</td>\n",
       "      <td>-35.061705</td>\n",
       "    </tr>\n",
       "  </tbody>\n",
       "</table>\n",
       "</div>"
      ],
      "text/plain": [
       "             locality        long        lat\n",
       "14084  ABERFOYLE PARK  138.603897 -35.061705"
      ]
     },
     "execution_count": 71,
     "metadata": {},
     "output_type": "execute_result"
    }
   ],
   "source": [
    "sa_postcodes_clean[sa_postcodes_clean[\"locality\"]==\"ABERFOYLE PARK\"]"
   ]
  },
  {
   "cell_type": "code",
   "execution_count": 72,
   "metadata": {},
   "outputs": [
    {
     "data": {
      "text/plain": [
       "0         ABERFOYLE PARK\n",
       "1               ADELAIDE\n",
       "2               ADELAIDE\n",
       "3               ADELAIDE\n",
       "4               ADELAIDE\n",
       "              ...       \n",
       "95695    WESTBOURNE PARK\n",
       "95696     WEST HINDMARSH\n",
       "95697         WEST LAKES\n",
       "95698     WHYALLA NORRIE\n",
       "95699    WOODVILLE NORTH\n",
       "Name: Suburb - Incident, Length: 463192, dtype: object"
      ]
     },
     "execution_count": 72,
     "metadata": {},
     "output_type": "execute_result"
    }
   ],
   "source": [
    "crime_cleaned[\"Suburb - Incident\"]"
   ]
  },
  {
   "cell_type": "code",
   "execution_count": 73,
   "metadata": {},
   "outputs": [],
   "source": [
    "crime_cleaned = crime_cleaned.rename(columns={\n",
    "    \"Suburb - Incident\": \"locality\"\n",
    "})"
   ]
  },
  {
   "cell_type": "code",
   "execution_count": 74,
   "metadata": {},
   "outputs": [
    {
     "data": {
      "text/html": [
       "<div>\n",
       "<style scoped>\n",
       "    .dataframe tbody tr th:only-of-type {\n",
       "        vertical-align: middle;\n",
       "    }\n",
       "\n",
       "    .dataframe tbody tr th {\n",
       "        vertical-align: top;\n",
       "    }\n",
       "\n",
       "    .dataframe thead th {\n",
       "        text-align: right;\n",
       "    }\n",
       "</style>\n",
       "<table border=\"1\" class=\"dataframe\">\n",
       "  <thead>\n",
       "    <tr style=\"text-align: right;\">\n",
       "      <th></th>\n",
       "      <th>Reported Date</th>\n",
       "      <th>locality</th>\n",
       "      <th>Postcode - Incident</th>\n",
       "      <th>Offence Level 1 Description</th>\n",
       "      <th>Offence Level 2 Description</th>\n",
       "      <th>Offence Level 3 Description</th>\n",
       "      <th>Offence count</th>\n",
       "    </tr>\n",
       "  </thead>\n",
       "  <tbody>\n",
       "    <tr>\n",
       "      <th>0</th>\n",
       "      <td>1/07/2015</td>\n",
       "      <td>ABERFOYLE PARK</td>\n",
       "      <td>5159</td>\n",
       "      <td>OFFENCES AGAINST PROPERTY</td>\n",
       "      <td>SERIOUS CRIMINAL TRESPASS</td>\n",
       "      <td>SCT - Non Residence</td>\n",
       "      <td>2.0</td>\n",
       "    </tr>\n",
       "    <tr>\n",
       "      <th>1</th>\n",
       "      <td>1/07/2015</td>\n",
       "      <td>ADELAIDE</td>\n",
       "      <td>5000</td>\n",
       "      <td>OFFENCES AGAINST PROPERTY</td>\n",
       "      <td>FRAUD DECEPTION AND RELATED OFFENCES</td>\n",
       "      <td>Obtain benefit by deception</td>\n",
       "      <td>1.0</td>\n",
       "    </tr>\n",
       "    <tr>\n",
       "      <th>2</th>\n",
       "      <td>1/07/2015</td>\n",
       "      <td>ADELAIDE</td>\n",
       "      <td>5000</td>\n",
       "      <td>OFFENCES AGAINST PROPERTY</td>\n",
       "      <td>PROPERTY DAMAGE AND ENVIRONMENTAL</td>\n",
       "      <td>Other property damage and environmental</td>\n",
       "      <td>2.0</td>\n",
       "    </tr>\n",
       "    <tr>\n",
       "      <th>3</th>\n",
       "      <td>1/07/2015</td>\n",
       "      <td>ADELAIDE</td>\n",
       "      <td>5000</td>\n",
       "      <td>OFFENCES AGAINST PROPERTY</td>\n",
       "      <td>THEFT AND RELATED OFFENCES</td>\n",
       "      <td>Other theft</td>\n",
       "      <td>9.0</td>\n",
       "    </tr>\n",
       "    <tr>\n",
       "      <th>4</th>\n",
       "      <td>1/07/2015</td>\n",
       "      <td>ADELAIDE</td>\n",
       "      <td>5000</td>\n",
       "      <td>OFFENCES AGAINST PROPERTY</td>\n",
       "      <td>THEFT AND RELATED OFFENCES</td>\n",
       "      <td>Theft from motor vehicle</td>\n",
       "      <td>1.0</td>\n",
       "    </tr>\n",
       "  </tbody>\n",
       "</table>\n",
       "</div>"
      ],
      "text/plain": [
       "  Reported Date        locality Postcode - Incident  \\\n",
       "0     1/07/2015  ABERFOYLE PARK                5159   \n",
       "1     1/07/2015        ADELAIDE                5000   \n",
       "2     1/07/2015        ADELAIDE                5000   \n",
       "3     1/07/2015        ADELAIDE                5000   \n",
       "4     1/07/2015        ADELAIDE                5000   \n",
       "\n",
       "  Offence Level 1 Description           Offence Level 2 Description  \\\n",
       "0   OFFENCES AGAINST PROPERTY             SERIOUS CRIMINAL TRESPASS   \n",
       "1   OFFENCES AGAINST PROPERTY  FRAUD DECEPTION AND RELATED OFFENCES   \n",
       "2   OFFENCES AGAINST PROPERTY     PROPERTY DAMAGE AND ENVIRONMENTAL   \n",
       "3   OFFENCES AGAINST PROPERTY            THEFT AND RELATED OFFENCES   \n",
       "4   OFFENCES AGAINST PROPERTY            THEFT AND RELATED OFFENCES   \n",
       "\n",
       "               Offence Level 3 Description  Offence count  \n",
       "0                      SCT - Non Residence            2.0  \n",
       "1              Obtain benefit by deception            1.0  \n",
       "2  Other property damage and environmental            2.0  \n",
       "3                              Other theft            9.0  \n",
       "4                 Theft from motor vehicle            1.0  "
      ]
     },
     "execution_count": 74,
     "metadata": {},
     "output_type": "execute_result"
    }
   ],
   "source": [
    "clean_df.head()"
   ]
  },
  {
   "cell_type": "code",
   "execution_count": 75,
   "metadata": {},
   "outputs": [],
   "source": [
    "df = pd.merge(crime_cleaned, sa_postcodes_clean, on=\"locality\", how=\"left\")"
   ]
  },
  {
   "cell_type": "code",
   "execution_count": 77,
   "metadata": {},
   "outputs": [
    {
     "data": {
      "text/plain": [
       "4032"
      ]
     },
     "execution_count": 77,
     "metadata": {},
     "output_type": "execute_result"
    }
   ],
   "source": [
    "df[\"long\"].isnull().sum()"
   ]
  },
  {
   "cell_type": "code",
   "execution_count": 80,
   "metadata": {},
   "outputs": [
    {
     "data": {
      "text/html": [
       "<div>\n",
       "<style scoped>\n",
       "    .dataframe tbody tr th:only-of-type {\n",
       "        vertical-align: middle;\n",
       "    }\n",
       "\n",
       "    .dataframe tbody tr th {\n",
       "        vertical-align: top;\n",
       "    }\n",
       "\n",
       "    .dataframe thead th {\n",
       "        text-align: right;\n",
       "    }\n",
       "</style>\n",
       "<table border=\"1\" class=\"dataframe\">\n",
       "  <thead>\n",
       "    <tr style=\"text-align: right;\">\n",
       "      <th></th>\n",
       "      <th>Reported Date</th>\n",
       "      <th>locality</th>\n",
       "      <th>Postcode - Incident</th>\n",
       "      <th>Offence Level 1 Description</th>\n",
       "      <th>Offence Level 2 Description</th>\n",
       "      <th>Offence Level 3 Description</th>\n",
       "      <th>Offence count</th>\n",
       "      <th>long</th>\n",
       "      <th>lat</th>\n",
       "    </tr>\n",
       "  </thead>\n",
       "  <tbody>\n",
       "    <tr>\n",
       "      <th>194</th>\n",
       "      <td>1/07/2015</td>\n",
       "      <td>NOT DISCLOSED</td>\n",
       "      <td>NOT DISCLOSED</td>\n",
       "      <td>OFFENCES AGAINST THE PERSON</td>\n",
       "      <td>SEXUAL ASSAULT AND RELATED OFFENCES</td>\n",
       "      <td>Aggravated sexual assault</td>\n",
       "      <td>5.0</td>\n",
       "      <td>NaN</td>\n",
       "      <td>NaN</td>\n",
       "    </tr>\n",
       "    <tr>\n",
       "      <th>477</th>\n",
       "      <td>2/07/2015</td>\n",
       "      <td>NOT DISCLOSED</td>\n",
       "      <td>NOT DISCLOSED</td>\n",
       "      <td>OFFENCES AGAINST THE PERSON</td>\n",
       "      <td>SEXUAL ASSAULT AND RELATED OFFENCES</td>\n",
       "      <td>Aggravated sexual assault</td>\n",
       "      <td>4.0</td>\n",
       "      <td>NaN</td>\n",
       "      <td>NaN</td>\n",
       "    </tr>\n",
       "    <tr>\n",
       "      <th>478</th>\n",
       "      <td>2/07/2015</td>\n",
       "      <td>NOT DISCLOSED</td>\n",
       "      <td>NOT DISCLOSED</td>\n",
       "      <td>OFFENCES AGAINST THE PERSON</td>\n",
       "      <td>SEXUAL ASSAULT AND RELATED OFFENCES</td>\n",
       "      <td>Non-assaultive sexual offences</td>\n",
       "      <td>1.0</td>\n",
       "      <td>NaN</td>\n",
       "      <td>NaN</td>\n",
       "    </tr>\n",
       "    <tr>\n",
       "      <th>786</th>\n",
       "      <td>3/07/2015</td>\n",
       "      <td>NOT DISCLOSED</td>\n",
       "      <td>NOT DISCLOSED</td>\n",
       "      <td>OFFENCES AGAINST THE PERSON</td>\n",
       "      <td>SEXUAL ASSAULT AND RELATED OFFENCES</td>\n",
       "      <td>Aggravated sexual assault</td>\n",
       "      <td>1.0</td>\n",
       "      <td>NaN</td>\n",
       "      <td>NaN</td>\n",
       "    </tr>\n",
       "    <tr>\n",
       "      <th>787</th>\n",
       "      <td>3/07/2015</td>\n",
       "      <td>NOT DISCLOSED</td>\n",
       "      <td>NOT DISCLOSED</td>\n",
       "      <td>OFFENCES AGAINST THE PERSON</td>\n",
       "      <td>SEXUAL ASSAULT AND RELATED OFFENCES</td>\n",
       "      <td>Non-aggravated sexual assault</td>\n",
       "      <td>1.0</td>\n",
       "      <td>NaN</td>\n",
       "      <td>NaN</td>\n",
       "    </tr>\n",
       "    <tr>\n",
       "      <th>...</th>\n",
       "      <td>...</td>\n",
       "      <td>...</td>\n",
       "      <td>...</td>\n",
       "      <td>...</td>\n",
       "      <td>...</td>\n",
       "      <td>...</td>\n",
       "      <td>...</td>\n",
       "      <td>...</td>\n",
       "      <td>...</td>\n",
       "    </tr>\n",
       "    <tr>\n",
       "      <th>544488</th>\n",
       "      <td>29/06/2020</td>\n",
       "      <td>NOT DISCLOSED</td>\n",
       "      <td>NOT DISCLOSED</td>\n",
       "      <td>OFFENCES AGAINST THE PERSON</td>\n",
       "      <td>SEXUAL ASSAULT AND RELATED OFFENCES</td>\n",
       "      <td>Aggravated sexual assault</td>\n",
       "      <td>3.0</td>\n",
       "      <td>NaN</td>\n",
       "      <td>NaN</td>\n",
       "    </tr>\n",
       "    <tr>\n",
       "      <th>544489</th>\n",
       "      <td>29/06/2020</td>\n",
       "      <td>NOT DISCLOSED</td>\n",
       "      <td>NOT DISCLOSED</td>\n",
       "      <td>OFFENCES AGAINST THE PERSON</td>\n",
       "      <td>SEXUAL ASSAULT AND RELATED OFFENCES</td>\n",
       "      <td>Non-aggravated sexual assault</td>\n",
       "      <td>2.0</td>\n",
       "      <td>NaN</td>\n",
       "      <td>NaN</td>\n",
       "    </tr>\n",
       "    <tr>\n",
       "      <th>544733</th>\n",
       "      <td>30/06/2020</td>\n",
       "      <td>NOT DISCLOSED</td>\n",
       "      <td>NOT DISCLOSED</td>\n",
       "      <td>OFFENCES AGAINST THE PERSON</td>\n",
       "      <td>SEXUAL ASSAULT AND RELATED OFFENCES</td>\n",
       "      <td>Aggravated sexual assault</td>\n",
       "      <td>2.0</td>\n",
       "      <td>NaN</td>\n",
       "      <td>NaN</td>\n",
       "    </tr>\n",
       "    <tr>\n",
       "      <th>544734</th>\n",
       "      <td>30/06/2020</td>\n",
       "      <td>NOT DISCLOSED</td>\n",
       "      <td>NOT DISCLOSED</td>\n",
       "      <td>OFFENCES AGAINST THE PERSON</td>\n",
       "      <td>SEXUAL ASSAULT AND RELATED OFFENCES</td>\n",
       "      <td>Non-aggravated sexual assault</td>\n",
       "      <td>1.0</td>\n",
       "      <td>NaN</td>\n",
       "      <td>NaN</td>\n",
       "    </tr>\n",
       "    <tr>\n",
       "      <th>544735</th>\n",
       "      <td>30/06/2020</td>\n",
       "      <td>NOT DISCLOSED</td>\n",
       "      <td>NOT DISCLOSED</td>\n",
       "      <td>OFFENCES AGAINST THE PERSON</td>\n",
       "      <td>SEXUAL ASSAULT AND RELATED OFFENCES</td>\n",
       "      <td>Non-assaultive sexual offences</td>\n",
       "      <td>4.0</td>\n",
       "      <td>NaN</td>\n",
       "      <td>NaN</td>\n",
       "    </tr>\n",
       "  </tbody>\n",
       "</table>\n",
       "<p>4032 rows × 9 columns</p>\n",
       "</div>"
      ],
      "text/plain": [
       "       Reported Date       locality Postcode - Incident  \\\n",
       "194        1/07/2015  NOT DISCLOSED       NOT DISCLOSED   \n",
       "477        2/07/2015  NOT DISCLOSED       NOT DISCLOSED   \n",
       "478        2/07/2015  NOT DISCLOSED       NOT DISCLOSED   \n",
       "786        3/07/2015  NOT DISCLOSED       NOT DISCLOSED   \n",
       "787        3/07/2015  NOT DISCLOSED       NOT DISCLOSED   \n",
       "...              ...            ...                 ...   \n",
       "544488    29/06/2020  NOT DISCLOSED       NOT DISCLOSED   \n",
       "544489    29/06/2020  NOT DISCLOSED       NOT DISCLOSED   \n",
       "544733    30/06/2020  NOT DISCLOSED       NOT DISCLOSED   \n",
       "544734    30/06/2020  NOT DISCLOSED       NOT DISCLOSED   \n",
       "544735    30/06/2020  NOT DISCLOSED       NOT DISCLOSED   \n",
       "\n",
       "        Offence Level 1 Description          Offence Level 2 Description  \\\n",
       "194     OFFENCES AGAINST THE PERSON  SEXUAL ASSAULT AND RELATED OFFENCES   \n",
       "477     OFFENCES AGAINST THE PERSON  SEXUAL ASSAULT AND RELATED OFFENCES   \n",
       "478     OFFENCES AGAINST THE PERSON  SEXUAL ASSAULT AND RELATED OFFENCES   \n",
       "786     OFFENCES AGAINST THE PERSON  SEXUAL ASSAULT AND RELATED OFFENCES   \n",
       "787     OFFENCES AGAINST THE PERSON  SEXUAL ASSAULT AND RELATED OFFENCES   \n",
       "...                             ...                                  ...   \n",
       "544488  OFFENCES AGAINST THE PERSON  SEXUAL ASSAULT AND RELATED OFFENCES   \n",
       "544489  OFFENCES AGAINST THE PERSON  SEXUAL ASSAULT AND RELATED OFFENCES   \n",
       "544733  OFFENCES AGAINST THE PERSON  SEXUAL ASSAULT AND RELATED OFFENCES   \n",
       "544734  OFFENCES AGAINST THE PERSON  SEXUAL ASSAULT AND RELATED OFFENCES   \n",
       "544735  OFFENCES AGAINST THE PERSON  SEXUAL ASSAULT AND RELATED OFFENCES   \n",
       "\n",
       "           Offence Level 3 Description  Offence count  long  lat  \n",
       "194          Aggravated sexual assault            5.0   NaN  NaN  \n",
       "477          Aggravated sexual assault            4.0   NaN  NaN  \n",
       "478     Non-assaultive sexual offences            1.0   NaN  NaN  \n",
       "786          Aggravated sexual assault            1.0   NaN  NaN  \n",
       "787      Non-aggravated sexual assault            1.0   NaN  NaN  \n",
       "...                                ...            ...   ...  ...  \n",
       "544488       Aggravated sexual assault            3.0   NaN  NaN  \n",
       "544489   Non-aggravated sexual assault            2.0   NaN  NaN  \n",
       "544733       Aggravated sexual assault            2.0   NaN  NaN  \n",
       "544734   Non-aggravated sexual assault            1.0   NaN  NaN  \n",
       "544735  Non-assaultive sexual offences            4.0   NaN  NaN  \n",
       "\n",
       "[4032 rows x 9 columns]"
      ]
     },
     "execution_count": 80,
     "metadata": {},
     "output_type": "execute_result"
    }
   ],
   "source": [
    "df[df[\"lat\"].isnull()]"
   ]
  },
  {
   "cell_type": "code",
   "execution_count": null,
   "metadata": {},
   "outputs": [],
   "source": []
  }
 ],
 "metadata": {
  "interpreter": {
   "hash": "1fc18f2d314b71246cdaeacbf5be85ffbc3bd384254613d1db63477b753ab41f"
  },
  "kernelspec": {
   "display_name": "Python 3.7.11 64-bit ('pythondata2': conda)",
   "language": "python",
   "name": "python3"
  },
  "language_info": {
   "codemirror_mode": {
    "name": "ipython",
    "version": 3
   },
   "file_extension": ".py",
   "mimetype": "text/x-python",
   "name": "python",
   "nbconvert_exporter": "python",
   "pygments_lexer": "ipython3",
   "version": "3.7.11"
  },
  "orig_nbformat": 4
 },
 "nbformat": 4,
 "nbformat_minor": 2
}
